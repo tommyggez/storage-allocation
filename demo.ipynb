{
 "cells": [
  {
   "cell_type": "code",
   "execution_count": 34,
   "id": "b18316af",
   "metadata": {},
   "outputs": [],
   "source": [
    "from mymodule import expected_profit, monte_carlo_expected_profit, maximise_expected_profit, naiive_allocations\n",
    "import pandas as pd"
   ]
  },
  {
   "cell_type": "code",
   "execution_count": 35,
   "id": "82c5dc19",
   "metadata": {},
   "outputs": [],
   "source": [
    "\"\"\"\n",
    "These values should tell us the mean demand for the product, not sales, \n",
    "which could be tainted by existing limits in storage\n",
    "\"\"\"\n",
    "sales_data = pd.DataFrame({\n",
    "    \"product\"       : [\"salt\",\"beans\",\"juice\",\"ink\"],\n",
    "    \"profit\"        : [10,20,15,100],\n",
    "    \"mean_demand\"   : [500,300,650,50],\n",
    "    \"demand_sd\"     : [50,30,100,12]\n",
    "})\n",
    "\n",
    "total_storage = 1400\n"
   ]
  },
  {
   "cell_type": "code",
   "execution_count": 36,
   "id": "bbe3f9e4",
   "metadata": {},
   "outputs": [
    {
     "name": "stdout",
     "output_type": "stream",
     "text": [
      "Optimal allocations for products [416.9, 301.8, 615.6, 65.7]\n"
     ]
    },
    {
     "ename": "TypeError",
     "evalue": "naiive_allocations() missing 1 required positional argument: 'type'",
     "output_type": "error",
     "traceback": [
      "\u001b[1;31m---------------------------------------------------------------------------\u001b[0m",
      "\u001b[1;31mTypeError\u001b[0m                                 Traceback (most recent call last)",
      "Cell \u001b[1;32mIn[36], line 6\u001b[0m\n\u001b[0;32m      3\u001b[0m \u001b[38;5;66;03m# print rounded allocations for readability\u001b[39;00m\n\u001b[0;32m      4\u001b[0m \u001b[38;5;28mprint\u001b[39m(\u001b[38;5;124mf\u001b[39m\u001b[38;5;124m'\u001b[39m\u001b[38;5;124mOptimal allocations for products \u001b[39m\u001b[38;5;132;01m{\u001b[39;00m[\u001b[38;5;28mround\u001b[39m(i,\u001b[38;5;241m1\u001b[39m)\u001b[38;5;250m \u001b[39m\u001b[38;5;28;01mfor\u001b[39;00m\u001b[38;5;250m \u001b[39mi\u001b[38;5;250m \u001b[39m\u001b[38;5;129;01min\u001b[39;00m\u001b[38;5;250m \u001b[39mallocations]\u001b[38;5;132;01m}\u001b[39;00m\u001b[38;5;124m'\u001b[39m)\n\u001b[1;32m----> 6\u001b[0m naiive_alloc \u001b[38;5;241m=\u001b[39m naiive_allocations(sales_data, total_storage)\n\u001b[0;32m      7\u001b[0m \u001b[38;5;28mprint\u001b[39m(\u001b[38;5;124mf\u001b[39m\u001b[38;5;124m'\u001b[39m\u001b[38;5;124mSuboptimal allocations, weighted by mean demand \u001b[39m\u001b[38;5;132;01m{\u001b[39;00m[\u001b[38;5;28mround\u001b[39m(i,\u001b[38;5;241m1\u001b[39m)\u001b[38;5;250m \u001b[39m\u001b[38;5;28;01mfor\u001b[39;00m\u001b[38;5;250m \u001b[39mi\u001b[38;5;250m \u001b[39m\u001b[38;5;129;01min\u001b[39;00m\u001b[38;5;250m \u001b[39mnaiive_alloc]\u001b[38;5;132;01m}\u001b[39;00m\u001b[38;5;130;01m\\n\u001b[39;00m\u001b[38;5;124m'\u001b[39m)\n\u001b[0;32m      8\u001b[0m \u001b[38;5;66;03m# calculate how much profit we expect numerically\u001b[39;00m\n",
      "\u001b[1;31mTypeError\u001b[0m: naiive_allocations() missing 1 required positional argument: 'type'"
     ]
    }
   ],
   "source": [
    "# calculate optimal allocations of each item\n",
    "allocations = maximise_expected_profit(sales_data, total_storage)\n",
    "# print rounded allocations for readability\n",
    "print(f'Optimal allocations for products {[round(i,1) for i in allocations]}')\n",
    "\n",
    "naiive_alloc = naiive_allocations(sales_data, total_storage)\n",
    "print(f'Suboptimal allocations, weighted by mean demand {[round(i,1) for i in naiive_alloc]}\\n')\n",
    "# calculate how much profit we expect numerically\n",
    "exp_profit = expected_profit(allocations, sales_data)\n",
    "print(f'With optimal allocations, we expect to profit ${exp_profit:.1f}\\n')\n",
    "exp_profit_naiive = expected_profit(naiive_alloc, sales_data)\n",
    "print(f'With suboptimal allocations, we expect to profit ${exp_profit_naiive:.1f}')\n",
    "# simulate this using random data, converges to numerical value\n",
    "n_sim = 10**5\n",
    "sample_mean_profit = monte_carlo_expected_profit(allocations, sales_data, n_sim=n_sim)\n",
    "print(f'In {n_sim} simulations we averaged {sample_mean_profit}')\n",
    "\n"
   ]
  }
 ],
 "metadata": {
  "kernelspec": {
   "display_name": "base",
   "language": "python",
   "name": "python3"
  },
  "language_info": {
   "codemirror_mode": {
    "name": "ipython",
    "version": 3
   },
   "file_extension": ".py",
   "mimetype": "text/x-python",
   "name": "python",
   "nbconvert_exporter": "python",
   "pygments_lexer": "ipython3",
   "version": "3.12.7"
  }
 },
 "nbformat": 4,
 "nbformat_minor": 5
}
