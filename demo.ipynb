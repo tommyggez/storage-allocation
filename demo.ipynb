{
 "cells": [
  {
   "cell_type": "code",
   "execution_count": 72,
   "id": "b18316af",
   "metadata": {},
   "outputs": [],
   "source": [
    "from mymodule import expected_profit, monte_carlo_expected_profit, maximise_expected_profit, naiive_allocations\n",
    "import pandas as pd"
   ]
  },
  {
   "cell_type": "code",
   "execution_count": 73,
   "id": "82c5dc19",
   "metadata": {},
   "outputs": [],
   "source": [
    "\"\"\"\n",
    "Some example data\n",
    "\"\"\"\n",
    "sales_data = pd.DataFrame({\n",
    "    \"product\"       : [\"salt\",\"beans\",\"juice\",\"ink\"],\n",
    "    \"profit\"        : [7,35,15,120],\n",
    "    \"mean_demand\"   : [500,300,650,50],\n",
    "    \"demand_sd\"     : [50,50,100,15]\n",
    "})\n",
    "\n",
    "total_storage = 1400\n"
   ]
  },
  {
   "cell_type": "code",
   "execution_count": 74,
   "id": "64651ed8",
   "metadata": {},
   "outputs": [],
   "source": [
    "def readable(allocs, products):\n",
    "    \"\"\"\n",
    "    convert allocations and product names into a readable string\n",
    "    don't try to figure it out\n",
    "    \"\"\"\n",
    "    my_str = \", \".join([\" \".join(str(x) for x in i) for i in zip([round(i,1) for i in allocs], products)])\n",
    "    return my_str"
   ]
  },
  {
   "cell_type": "code",
   "execution_count": 75,
   "id": "bbe3f9e4",
   "metadata": {},
   "outputs": [
    {
     "name": "stdout",
     "output_type": "stream",
     "text": [
      "Comparing optimal allocations to some naiive allocations, such as weighted by mean demand\n",
      "\n",
      "\n",
      "Optimal allocations for products:                   326.0 salt, 342.1 beans, 658.4 juice, 73.5 ink\n",
      "Suboptimal allocations, weighted by mean demand:    466.7 salt, 280.0 beans, 606.7 juice, 46.7 ink\n",
      "\n",
      "With optimal allocations, we expect to profit $27754.0\n",
      "With suboptimal allocations, we expect to profit $26446.0, 4.71% less\n",
      "\n",
      "In 10000 simulations we averaged $27774.8 profit with optimal allocations\n",
      "In 10000 simulations we averaged $26429.3 profit with suboptimal allocations\n"
     ]
    }
   ],
   "source": [
    "print(\"Comparing optimal allocations to some naiive allocations, such as weighted by mean demand\\n\\n\")\n",
    "# calculate optimal allocations of each item\n",
    "allocations = maximise_expected_profit(sales_data, total_storage)\n",
    "print(f'Optimal allocations for products:                   {readable(allocations,sales_data[\"product\"])}')\n",
    "# calculate suboptimal allocations, using mean demand as weights\n",
    "naiive_alloc = naiive_allocations(sales_data, total_storage)\n",
    "print(f'Suboptimal allocations, weighted by mean demand:    {readable(naiive_alloc,sales_data[\"product\"])}\\n')\n",
    "\n",
    "# calculate how much profit we expect numerically\n",
    "exp_profit = expected_profit(allocations, sales_data)\n",
    "print(f'With optimal allocations, we expect to profit ${exp_profit:.1f}')\n",
    "exp_profit_naiive = expected_profit(naiive_alloc, sales_data)\n",
    "perc_diff = f'{(100*(exp_profit-exp_profit_naiive)/exp_profit):.2f}%'\n",
    "print(f'With suboptimal allocations, we expect to profit ${exp_profit_naiive:.1f}, {perc_diff} less\\n')\n",
    "\n",
    "# simulate this using random data, for further sanity testing etc\n",
    "n_sim = 10**4\n",
    "sample_mean_profit = monte_carlo_expected_profit(allocations, sales_data, n_sim=n_sim)\n",
    "print(f'In {n_sim} simulations we averaged ${sample_mean_profit:.1f} profit with optimal allocations')\n",
    "sample_mean_naiive = monte_carlo_expected_profit(naiive_alloc, sales_data, n_sim=n_sim)\n",
    "print(f'In {n_sim} simulations we averaged ${sample_mean_naiive:.1f} profit with suboptimal allocations')\n",
    "\n"
   ]
  }
 ],
 "metadata": {
  "kernelspec": {
   "display_name": "base",
   "language": "python",
   "name": "python3"
  },
  "language_info": {
   "codemirror_mode": {
    "name": "ipython",
    "version": 3
   },
   "file_extension": ".py",
   "mimetype": "text/x-python",
   "name": "python",
   "nbconvert_exporter": "python",
   "pygments_lexer": "ipython3",
   "version": "3.12.7"
  }
 },
 "nbformat": 4,
 "nbformat_minor": 5
}
