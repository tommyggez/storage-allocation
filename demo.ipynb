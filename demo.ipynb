{
 "cells": [
  {
   "cell_type": "code",
   "execution_count": 8,
   "id": "b18316af",
   "metadata": {},
   "outputs": [],
   "source": [
    "from mymodule import expected_profit, monte_carlo_expected_profit, maximise_expected_profit\n",
    "import pandas as pd"
   ]
  },
  {
   "cell_type": "code",
   "execution_count": 9,
   "id": "82c5dc19",
   "metadata": {},
   "outputs": [],
   "source": [
    "\"\"\"\n",
    "These values should tell us the mean demand for the product, not sales, \n",
    "which could be tainted by existing limits in storage\n",
    "\"\"\"\n",
    "sales_data = pd.DataFrame({\n",
    "    \"product\"       : [\"salt\",\"beans\",\"juice\",\"ink\"],\n",
    "    \"profit\"        : [10,20,15,100],\n",
    "    \"mean_demand\"   : [500,300,650,50],\n",
    "    \"demand_sd\"     : [50,30,100,12]\n",
    "})\n",
    "\n",
    "total_storage = 1400\n"
   ]
  },
  {
   "cell_type": "code",
   "execution_count": null,
   "id": "bbe3f9e4",
   "metadata": {},
   "outputs": [
    {
     "name": "stdout",
     "output_type": "stream",
     "text": [
      "Optimal allocations for products [416.86234650333887, 301.81275350882225, 615.6107745970392, 65.71412539079977]\n",
      "We expect to profit 23742.030810843036\n",
      "\n",
      "In 100000 simulations we averaged 23738.58829036619\n"
     ]
    }
   ],
   "source": [
    "# calculate optimal allocations of each item\n",
    "allocations = maximise_expected_profit(sales_data, total_storage)\n",
    "print(f'Optimal allocations for products {allocations}')\n",
    "\n",
    "# calculate how much profit we expect numerically\n",
    "exp_profit = expected_profit(allocations, sales_data)\n",
    "print(f'We expect to profit {exp_profit}\\n')\n",
    "\n",
    "# simulate this using random data, converges to numerical value\n",
    "n_sim = 10**5\n",
    "sample_mean_profit = monte_carlo_expected_profit(allocations, sales_data, n_sim=n_sim)\n",
    "print(f'In {n_sim} simulations we averaged {sample_mean_profit}')"
   ]
  }
 ],
 "metadata": {
  "kernelspec": {
   "display_name": "base",
   "language": "python",
   "name": "python3"
  },
  "language_info": {
   "codemirror_mode": {
    "name": "ipython",
    "version": 3
   },
   "file_extension": ".py",
   "mimetype": "text/x-python",
   "name": "python",
   "nbconvert_exporter": "python",
   "pygments_lexer": "ipython3",
   "version": "3.12.7"
  }
 },
 "nbformat": 4,
 "nbformat_minor": 5
}
